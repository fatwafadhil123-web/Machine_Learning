{
 "cells": [
  {
   "cell_type": "code",
   "execution_count": 2,
   "id": "497abe3f",
   "metadata": {},
   "outputs": [
    {
     "name": "stdout",
     "output_type": "stream",
     "text": [
      "(70, 3) (15, 3) (15, 3)\n"
     ]
    }
   ],
   "source": [
    "import pandas as pd\n",
    "from sklearn.model_selection import train_test_split\n",
    "from sklearn.preprocessing import StandardScaler\n",
    "\n",
    "df = pd.read_csv(\"kelulusan_mahasiswa.csv\")\n",
    "X = df.drop(\"Lulus\", axis=1)\n",
    "y = df[\"Lulus\"]\n",
    "\n",
    "sc = StandardScaler()\n",
    "Xs = sc.fit_transform(X)\n",
    "\n",
    "X_train, X_temp, y_train, y_temp = train_test_split(\n",
    "    Xs, y, test_size=0.30, stratify=y, random_state=42\n",
    ")\n",
    "X_val, X_test, y_val, y_test = train_test_split(\n",
    "    X_temp, y_temp, test_size=0.50, stratify=y_temp, random_state=42\n",
    ")\n",
    "\n",
    "print(X_train.shape, X_val.shape, X_test.shape)\n"
   ]
  },
  {
   "cell_type": "code",
   "execution_count": 5,
   "id": "83331d37",
   "metadata": {},
   "outputs": [
    {
     "data": {
      "text/html": [
       "<pre style=\"white-space:pre;overflow-x:auto;line-height:normal;font-family:Menlo,'DejaVu Sans Mono',consolas,'Courier New',monospace\"><span style=\"font-weight: bold\">Model: \"sequential\"</span>\n",
       "</pre>\n"
      ],
      "text/plain": [
       "\u001b[1mModel: \"sequential\"\u001b[0m\n"
      ]
     },
     "metadata": {},
     "output_type": "display_data"
    },
    {
     "data": {
      "text/html": [
       "<pre style=\"white-space:pre;overflow-x:auto;line-height:normal;font-family:Menlo,'DejaVu Sans Mono',consolas,'Courier New',monospace\">┏━━━━━━━━━━━━━━━━━━━━━━━━━━━━━━━━━┳━━━━━━━━━━━━━━━━━━━━━━━━┳━━━━━━━━━━━━━━━┓\n",
       "┃<span style=\"font-weight: bold\"> Layer (type)                    </span>┃<span style=\"font-weight: bold\"> Output Shape           </span>┃<span style=\"font-weight: bold\">       Param # </span>┃\n",
       "┡━━━━━━━━━━━━━━━━━━━━━━━━━━━━━━━━━╇━━━━━━━━━━━━━━━━━━━━━━━━╇━━━━━━━━━━━━━━━┩\n",
       "│ dense (<span style=\"color: #0087ff; text-decoration-color: #0087ff\">Dense</span>)                   │ (<span style=\"color: #00d7ff; text-decoration-color: #00d7ff\">None</span>, <span style=\"color: #00af00; text-decoration-color: #00af00\">32</span>)             │           <span style=\"color: #00af00; text-decoration-color: #00af00\">128</span> │\n",
       "├─────────────────────────────────┼────────────────────────┼───────────────┤\n",
       "│ dropout (<span style=\"color: #0087ff; text-decoration-color: #0087ff\">Dropout</span>)               │ (<span style=\"color: #00d7ff; text-decoration-color: #00d7ff\">None</span>, <span style=\"color: #00af00; text-decoration-color: #00af00\">32</span>)             │             <span style=\"color: #00af00; text-decoration-color: #00af00\">0</span> │\n",
       "├─────────────────────────────────┼────────────────────────┼───────────────┤\n",
       "│ dense_1 (<span style=\"color: #0087ff; text-decoration-color: #0087ff\">Dense</span>)                 │ (<span style=\"color: #00d7ff; text-decoration-color: #00d7ff\">None</span>, <span style=\"color: #00af00; text-decoration-color: #00af00\">16</span>)             │           <span style=\"color: #00af00; text-decoration-color: #00af00\">528</span> │\n",
       "├─────────────────────────────────┼────────────────────────┼───────────────┤\n",
       "│ dense_2 (<span style=\"color: #0087ff; text-decoration-color: #0087ff\">Dense</span>)                 │ (<span style=\"color: #00d7ff; text-decoration-color: #00d7ff\">None</span>, <span style=\"color: #00af00; text-decoration-color: #00af00\">1</span>)              │            <span style=\"color: #00af00; text-decoration-color: #00af00\">17</span> │\n",
       "└─────────────────────────────────┴────────────────────────┴───────────────┘\n",
       "</pre>\n"
      ],
      "text/plain": [
       "┏━━━━━━━━━━━━━━━━━━━━━━━━━━━━━━━━━┳━━━━━━━━━━━━━━━━━━━━━━━━┳━━━━━━━━━━━━━━━┓\n",
       "┃\u001b[1m \u001b[0m\u001b[1mLayer (type)                   \u001b[0m\u001b[1m \u001b[0m┃\u001b[1m \u001b[0m\u001b[1mOutput Shape          \u001b[0m\u001b[1m \u001b[0m┃\u001b[1m \u001b[0m\u001b[1m      Param #\u001b[0m\u001b[1m \u001b[0m┃\n",
       "┡━━━━━━━━━━━━━━━━━━━━━━━━━━━━━━━━━╇━━━━━━━━━━━━━━━━━━━━━━━━╇━━━━━━━━━━━━━━━┩\n",
       "│ dense (\u001b[38;5;33mDense\u001b[0m)                   │ (\u001b[38;5;45mNone\u001b[0m, \u001b[38;5;34m32\u001b[0m)             │           \u001b[38;5;34m128\u001b[0m │\n",
       "├─────────────────────────────────┼────────────────────────┼───────────────┤\n",
       "│ dropout (\u001b[38;5;33mDropout\u001b[0m)               │ (\u001b[38;5;45mNone\u001b[0m, \u001b[38;5;34m32\u001b[0m)             │             \u001b[38;5;34m0\u001b[0m │\n",
       "├─────────────────────────────────┼────────────────────────┼───────────────┤\n",
       "│ dense_1 (\u001b[38;5;33mDense\u001b[0m)                 │ (\u001b[38;5;45mNone\u001b[0m, \u001b[38;5;34m16\u001b[0m)             │           \u001b[38;5;34m528\u001b[0m │\n",
       "├─────────────────────────────────┼────────────────────────┼───────────────┤\n",
       "│ dense_2 (\u001b[38;5;33mDense\u001b[0m)                 │ (\u001b[38;5;45mNone\u001b[0m, \u001b[38;5;34m1\u001b[0m)              │            \u001b[38;5;34m17\u001b[0m │\n",
       "└─────────────────────────────────┴────────────────────────┴───────────────┘\n"
      ]
     },
     "metadata": {},
     "output_type": "display_data"
    },
    {
     "data": {
      "text/html": [
       "<pre style=\"white-space:pre;overflow-x:auto;line-height:normal;font-family:Menlo,'DejaVu Sans Mono',consolas,'Courier New',monospace\"><span style=\"font-weight: bold\"> Total params: </span><span style=\"color: #00af00; text-decoration-color: #00af00\">673</span> (2.63 KB)\n",
       "</pre>\n"
      ],
      "text/plain": [
       "\u001b[1m Total params: \u001b[0m\u001b[38;5;34m673\u001b[0m (2.63 KB)\n"
      ]
     },
     "metadata": {},
     "output_type": "display_data"
    },
    {
     "data": {
      "text/html": [
       "<pre style=\"white-space:pre;overflow-x:auto;line-height:normal;font-family:Menlo,'DejaVu Sans Mono',consolas,'Courier New',monospace\"><span style=\"font-weight: bold\"> Trainable params: </span><span style=\"color: #00af00; text-decoration-color: #00af00\">673</span> (2.63 KB)\n",
       "</pre>\n"
      ],
      "text/plain": [
       "\u001b[1m Trainable params: \u001b[0m\u001b[38;5;34m673\u001b[0m (2.63 KB)\n"
      ]
     },
     "metadata": {},
     "output_type": "display_data"
    },
    {
     "data": {
      "text/html": [
       "<pre style=\"white-space:pre;overflow-x:auto;line-height:normal;font-family:Menlo,'DejaVu Sans Mono',consolas,'Courier New',monospace\"><span style=\"font-weight: bold\"> Non-trainable params: </span><span style=\"color: #00af00; text-decoration-color: #00af00\">0</span> (0.00 B)\n",
       "</pre>\n"
      ],
      "text/plain": [
       "\u001b[1m Non-trainable params: \u001b[0m\u001b[38;5;34m0\u001b[0m (0.00 B)\n"
      ]
     },
     "metadata": {},
     "output_type": "display_data"
    }
   ],
   "source": [
    "import tensorflow as tf\n",
    "from tensorflow import keras\n",
    "from tensorflow.keras import layers\n",
    "\n",
    "model = keras.Sequential([\n",
    "    layers.Input(shape=(X_train.shape[1],)),\n",
    "    layers.Dense(32, activation=\"relu\"),\n",
    "    layers.Dropout(0.3),\n",
    "    layers.Dense(16, activation=\"relu\"),\n",
    "    layers.Dense(1, activation=\"sigmoid\")  # klasifikasi biner\n",
    "])\n",
    "\n",
    "model.compile(optimizer=keras.optimizers.Adam(1e-3),\n",
    "              loss=\"binary_crossentropy\",\n",
    "              metrics=[\"accuracy\",\"AUC\"])\n",
    "model.summary()"
   ]
  },
  {
   "cell_type": "code",
   "execution_count": 6,
   "id": "ce91f4ea",
   "metadata": {},
   "outputs": [
    {
     "name": "stdout",
     "output_type": "stream",
     "text": [
      "Epoch 1/100\n",
      "\u001b[1m3/3\u001b[0m \u001b[32m━━━━━━━━━━━━━━━━━━━━\u001b[0m\u001b[37m\u001b[0m \u001b[1m9s\u001b[0m 1s/step - AUC: 0.0890 - accuracy: 0.1571 - loss: 0.7860 - val_AUC: 0.0357 - val_accuracy: 0.1333 - val_loss: 0.7280\n",
      "Epoch 2/100\n",
      "\u001b[1m3/3\u001b[0m \u001b[32m━━━━━━━━━━━━━━━━━━━━\u001b[0m\u001b[37m\u001b[0m \u001b[1m1s\u001b[0m 212ms/step - AUC: 0.1612 - accuracy: 0.1571 - loss: 0.7827 - val_AUC: 0.4643 - val_accuracy: 0.2667 - val_loss: 0.7076\n",
      "Epoch 3/100\n",
      "\u001b[1m3/3\u001b[0m \u001b[32m━━━━━━━━━━━━━━━━━━━━\u001b[0m\u001b[37m\u001b[0m \u001b[1m0s\u001b[0m 167ms/step - AUC: 0.2673 - accuracy: 0.2857 - loss: 0.7707 - val_AUC: 0.5714 - val_accuracy: 0.4000 - val_loss: 0.6891\n",
      "Epoch 4/100\n",
      "\u001b[1m3/3\u001b[0m \u001b[32m━━━━━━━━━━━━━━━━━━━━\u001b[0m\u001b[37m\u001b[0m \u001b[1m0s\u001b[0m 163ms/step - AUC: 0.5012 - accuracy: 0.4571 - loss: 0.7084 - val_AUC: 0.8929 - val_accuracy: 0.8667 - val_loss: 0.6710\n",
      "Epoch 5/100\n",
      "\u001b[1m3/3\u001b[0m \u001b[32m━━━━━━━━━━━━━━━━━━━━\u001b[0m\u001b[37m\u001b[0m \u001b[1m0s\u001b[0m 171ms/step - AUC: 0.5857 - accuracy: 0.5000 - loss: 0.6918 - val_AUC: 1.0000 - val_accuracy: 0.8667 - val_loss: 0.6538\n",
      "Epoch 6/100\n",
      "\u001b[1m3/3\u001b[0m \u001b[32m━━━━━━━━━━━━━━━━━━━━\u001b[0m\u001b[37m\u001b[0m \u001b[1m0s\u001b[0m 161ms/step - AUC: 0.6176 - accuracy: 0.5571 - loss: 0.6709 - val_AUC: 1.0000 - val_accuracy: 0.8667 - val_loss: 0.6373\n",
      "Epoch 7/100\n",
      "\u001b[1m3/3\u001b[0m \u001b[32m━━━━━━━━━━━━━━━━━━━━\u001b[0m\u001b[37m\u001b[0m \u001b[1m0s\u001b[0m 169ms/step - AUC: 0.8351 - accuracy: 0.8143 - loss: 0.6284 - val_AUC: 1.0000 - val_accuracy: 1.0000 - val_loss: 0.6216\n",
      "Epoch 8/100\n",
      "\u001b[1m3/3\u001b[0m \u001b[32m━━━━━━━━━━━━━━━━━━━━\u001b[0m\u001b[37m\u001b[0m \u001b[1m0s\u001b[0m 163ms/step - AUC: 0.7865 - accuracy: 0.8000 - loss: 0.6337 - val_AUC: 1.0000 - val_accuracy: 1.0000 - val_loss: 0.6075\n",
      "Epoch 9/100\n",
      "\u001b[1m3/3\u001b[0m \u001b[32m━━━━━━━━━━━━━━━━━━━━\u001b[0m\u001b[37m\u001b[0m \u001b[1m0s\u001b[0m 162ms/step - AUC: 0.8604 - accuracy: 0.8286 - loss: 0.6154 - val_AUC: 1.0000 - val_accuracy: 1.0000 - val_loss: 0.5932\n",
      "Epoch 10/100\n",
      "\u001b[1m3/3\u001b[0m \u001b[32m━━━━━━━━━━━━━━━━━━━━\u001b[0m\u001b[37m\u001b[0m \u001b[1m0s\u001b[0m 163ms/step - AUC: 0.9661 - accuracy: 0.8857 - loss: 0.5862 - val_AUC: 1.0000 - val_accuracy: 1.0000 - val_loss: 0.5788\n",
      "Epoch 11/100\n",
      "\u001b[1m3/3\u001b[0m \u001b[32m━━━━━━━━━━━━━━━━━━━━\u001b[0m\u001b[37m\u001b[0m \u001b[1m1s\u001b[0m 376ms/step - AUC: 0.9812 - accuracy: 0.9286 - loss: 0.5595 - val_AUC: 1.0000 - val_accuracy: 1.0000 - val_loss: 0.5649\n",
      "Epoch 12/100\n",
      "\u001b[1m3/3\u001b[0m \u001b[32m━━━━━━━━━━━━━━━━━━━━\u001b[0m\u001b[37m\u001b[0m \u001b[1m1s\u001b[0m 175ms/step - AUC: 0.9347 - accuracy: 0.9286 - loss: 0.5548 - val_AUC: 1.0000 - val_accuracy: 1.0000 - val_loss: 0.5512\n",
      "Epoch 13/100\n",
      "\u001b[1m3/3\u001b[0m \u001b[32m━━━━━━━━━━━━━━━━━━━━\u001b[0m\u001b[37m\u001b[0m \u001b[1m1s\u001b[0m 222ms/step - AUC: 0.9624 - accuracy: 0.9429 - loss: 0.5329 - val_AUC: 1.0000 - val_accuracy: 1.0000 - val_loss: 0.5377\n",
      "Epoch 14/100\n",
      "\u001b[1m3/3\u001b[0m \u001b[32m━━━━━━━━━━━━━━━━━━━━\u001b[0m\u001b[37m\u001b[0m \u001b[1m1s\u001b[0m 200ms/step - AUC: 1.0000 - accuracy: 1.0000 - loss: 0.5062 - val_AUC: 1.0000 - val_accuracy: 1.0000 - val_loss: 0.5243\n",
      "Epoch 15/100\n",
      "\u001b[1m3/3\u001b[0m \u001b[32m━━━━━━━━━━━━━━━━━━━━\u001b[0m\u001b[37m\u001b[0m \u001b[1m1s\u001b[0m 287ms/step - AUC: 0.9710 - accuracy: 0.9571 - loss: 0.5076 - val_AUC: 1.0000 - val_accuracy: 1.0000 - val_loss: 0.5104\n",
      "Epoch 16/100\n",
      "\u001b[1m3/3\u001b[0m \u001b[32m━━━━━━━━━━━━━━━━━━━━\u001b[0m\u001b[37m\u001b[0m \u001b[1m1s\u001b[0m 249ms/step - AUC: 0.9616 - accuracy: 0.9714 - loss: 0.5008 - val_AUC: 1.0000 - val_accuracy: 1.0000 - val_loss: 0.4964\n",
      "Epoch 17/100\n",
      "\u001b[1m3/3\u001b[0m \u001b[32m━━━━━━━━━━━━━━━━━━━━\u001b[0m\u001b[37m\u001b[0m \u001b[1m1s\u001b[0m 213ms/step - AUC: 0.9845 - accuracy: 0.9571 - loss: 0.4793 - val_AUC: 1.0000 - val_accuracy: 1.0000 - val_loss: 0.4820\n",
      "Epoch 18/100\n",
      "\u001b[1m3/3\u001b[0m \u001b[32m━━━━━━━━━━━━━━━━━━━━\u001b[0m\u001b[37m\u001b[0m \u001b[1m0s\u001b[0m 167ms/step - AUC: 1.0000 - accuracy: 1.0000 - loss: 0.4347 - val_AUC: 1.0000 - val_accuracy: 1.0000 - val_loss: 0.4674\n",
      "Epoch 19/100\n",
      "\u001b[1m3/3\u001b[0m \u001b[32m━━━━━━━━━━━━━━━━━━━━\u001b[0m\u001b[37m\u001b[0m \u001b[1m1s\u001b[0m 165ms/step - AUC: 1.0000 - accuracy: 0.9857 - loss: 0.4250 - val_AUC: 1.0000 - val_accuracy: 1.0000 - val_loss: 0.4527\n",
      "Epoch 20/100\n",
      "\u001b[1m3/3\u001b[0m \u001b[32m━━━━━━━━━━━━━━━━━━━━\u001b[0m\u001b[37m\u001b[0m \u001b[1m0s\u001b[0m 162ms/step - AUC: 1.0000 - accuracy: 1.0000 - loss: 0.4307 - val_AUC: 1.0000 - val_accuracy: 1.0000 - val_loss: 0.4381\n",
      "Epoch 21/100\n",
      "\u001b[1m3/3\u001b[0m \u001b[32m━━━━━━━━━━━━━━━━━━━━\u001b[0m\u001b[37m\u001b[0m \u001b[1m1s\u001b[0m 201ms/step - AUC: 1.0000 - accuracy: 1.0000 - loss: 0.4110 - val_AUC: 1.0000 - val_accuracy: 1.0000 - val_loss: 0.4234\n",
      "Epoch 22/100\n",
      "\u001b[1m3/3\u001b[0m \u001b[32m━━━━━━━━━━━━━━━━━━━━\u001b[0m\u001b[37m\u001b[0m \u001b[1m1s\u001b[0m 207ms/step - AUC: 1.0000 - accuracy: 0.9857 - loss: 0.3910 - val_AUC: 1.0000 - val_accuracy: 1.0000 - val_loss: 0.4084\n",
      "Epoch 23/100\n",
      "\u001b[1m3/3\u001b[0m \u001b[32m━━━━━━━━━━━━━━━━━━━━\u001b[0m\u001b[37m\u001b[0m \u001b[1m1s\u001b[0m 194ms/step - AUC: 1.0000 - accuracy: 1.0000 - loss: 0.3648 - val_AUC: 1.0000 - val_accuracy: 1.0000 - val_loss: 0.3932\n",
      "Epoch 24/100\n",
      "\u001b[1m3/3\u001b[0m \u001b[32m━━━━━━━━━━━━━━━━━━━━\u001b[0m\u001b[37m\u001b[0m \u001b[1m1s\u001b[0m 170ms/step - AUC: 1.0000 - accuracy: 1.0000 - loss: 0.3650 - val_AUC: 1.0000 - val_accuracy: 1.0000 - val_loss: 0.3778\n",
      "Epoch 25/100\n",
      "\u001b[1m3/3\u001b[0m \u001b[32m━━━━━━━━━━━━━━━━━━━━\u001b[0m\u001b[37m\u001b[0m \u001b[1m0s\u001b[0m 160ms/step - AUC: 1.0000 - accuracy: 1.0000 - loss: 0.3478 - val_AUC: 1.0000 - val_accuracy: 1.0000 - val_loss: 0.3625\n",
      "Epoch 26/100\n",
      "\u001b[1m3/3\u001b[0m \u001b[32m━━━━━━━━━━━━━━━━━━━━\u001b[0m\u001b[37m\u001b[0m \u001b[1m0s\u001b[0m 169ms/step - AUC: 1.0000 - accuracy: 1.0000 - loss: 0.3224 - val_AUC: 1.0000 - val_accuracy: 1.0000 - val_loss: 0.3473\n",
      "Epoch 27/100\n",
      "\u001b[1m3/3\u001b[0m \u001b[32m━━━━━━━━━━━━━━━━━━━━\u001b[0m\u001b[37m\u001b[0m \u001b[1m0s\u001b[0m 164ms/step - AUC: 1.0000 - accuracy: 1.0000 - loss: 0.3216 - val_AUC: 1.0000 - val_accuracy: 1.0000 - val_loss: 0.3324\n",
      "Epoch 28/100\n",
      "\u001b[1m3/3\u001b[0m \u001b[32m━━━━━━━━━━━━━━━━━━━━\u001b[0m\u001b[37m\u001b[0m \u001b[1m1s\u001b[0m 157ms/step - AUC: 1.0000 - accuracy: 1.0000 - loss: 0.2914 - val_AUC: 1.0000 - val_accuracy: 1.0000 - val_loss: 0.3178\n",
      "Epoch 29/100\n",
      "\u001b[1m3/3\u001b[0m \u001b[32m━━━━━━━━━━━━━━━━━━━━\u001b[0m\u001b[37m\u001b[0m \u001b[1m1s\u001b[0m 237ms/step - AUC: 1.0000 - accuracy: 1.0000 - loss: 0.2757 - val_AUC: 1.0000 - val_accuracy: 1.0000 - val_loss: 0.3032\n",
      "Epoch 30/100\n",
      "\u001b[1m3/3\u001b[0m \u001b[32m━━━━━━━━━━━━━━━━━━━━\u001b[0m\u001b[37m\u001b[0m \u001b[1m1s\u001b[0m 163ms/step - AUC: 1.0000 - accuracy: 1.0000 - loss: 0.2706 - val_AUC: 1.0000 - val_accuracy: 1.0000 - val_loss: 0.2889\n",
      "Epoch 31/100\n",
      "\u001b[1m3/3\u001b[0m \u001b[32m━━━━━━━━━━━━━━━━━━━━\u001b[0m\u001b[37m\u001b[0m \u001b[1m1s\u001b[0m 177ms/step - AUC: 1.0000 - accuracy: 1.0000 - loss: 0.2486 - val_AUC: 1.0000 - val_accuracy: 1.0000 - val_loss: 0.2749\n",
      "Epoch 32/100\n",
      "\u001b[1m3/3\u001b[0m \u001b[32m━━━━━━━━━━━━━━━━━━━━\u001b[0m\u001b[37m\u001b[0m \u001b[1m0s\u001b[0m 175ms/step - AUC: 1.0000 - accuracy: 1.0000 - loss: 0.2370 - val_AUC: 1.0000 - val_accuracy: 1.0000 - val_loss: 0.2606\n",
      "Epoch 33/100\n",
      "\u001b[1m3/3\u001b[0m \u001b[32m━━━━━━━━━━━━━━━━━━━━\u001b[0m\u001b[37m\u001b[0m \u001b[1m1s\u001b[0m 172ms/step - AUC: 1.0000 - accuracy: 1.0000 - loss: 0.2366 - val_AUC: 1.0000 - val_accuracy: 1.0000 - val_loss: 0.2470\n",
      "Epoch 34/100\n",
      "\u001b[1m3/3\u001b[0m \u001b[32m━━━━━━━━━━━━━━━━━━━━\u001b[0m\u001b[37m\u001b[0m \u001b[1m1s\u001b[0m 202ms/step - AUC: 1.0000 - accuracy: 1.0000 - loss: 0.2005 - val_AUC: 1.0000 - val_accuracy: 1.0000 - val_loss: 0.2339\n",
      "Epoch 35/100\n",
      "\u001b[1m3/3\u001b[0m \u001b[32m━━━━━━━━━━━━━━━━━━━━\u001b[0m\u001b[37m\u001b[0m \u001b[1m1s\u001b[0m 193ms/step - AUC: 1.0000 - accuracy: 1.0000 - loss: 0.2139 - val_AUC: 1.0000 - val_accuracy: 1.0000 - val_loss: 0.2213\n",
      "Epoch 36/100\n",
      "\u001b[1m3/3\u001b[0m \u001b[32m━━━━━━━━━━━━━━━━━━━━\u001b[0m\u001b[37m\u001b[0m \u001b[1m1s\u001b[0m 207ms/step - AUC: 1.0000 - accuracy: 1.0000 - loss: 0.1871 - val_AUC: 1.0000 - val_accuracy: 1.0000 - val_loss: 0.2092\n",
      "Epoch 37/100\n",
      "\u001b[1m3/3\u001b[0m \u001b[32m━━━━━━━━━━━━━━━━━━━━\u001b[0m\u001b[37m\u001b[0m \u001b[1m1s\u001b[0m 259ms/step - AUC: 1.0000 - accuracy: 1.0000 - loss: 0.1765 - val_AUC: 1.0000 - val_accuracy: 1.0000 - val_loss: 0.1976\n",
      "Epoch 38/100\n",
      "\u001b[1m3/3\u001b[0m \u001b[32m━━━━━━━━━━━━━━━━━━━━\u001b[0m\u001b[37m\u001b[0m \u001b[1m1s\u001b[0m 167ms/step - AUC: 1.0000 - accuracy: 1.0000 - loss: 0.1697 - val_AUC: 1.0000 - val_accuracy: 1.0000 - val_loss: 0.1864\n",
      "Epoch 39/100\n",
      "\u001b[1m3/3\u001b[0m \u001b[32m━━━━━━━━━━━━━━━━━━━━\u001b[0m\u001b[37m\u001b[0m \u001b[1m1s\u001b[0m 208ms/step - AUC: 1.0000 - accuracy: 1.0000 - loss: 0.1647 - val_AUC: 1.0000 - val_accuracy: 1.0000 - val_loss: 0.1758\n",
      "Epoch 40/100\n",
      "\u001b[1m3/3\u001b[0m \u001b[32m━━━━━━━━━━━━━━━━━━━━\u001b[0m\u001b[37m\u001b[0m \u001b[1m1s\u001b[0m 208ms/step - AUC: 1.0000 - accuracy: 1.0000 - loss: 0.1529 - val_AUC: 1.0000 - val_accuracy: 1.0000 - val_loss: 0.1658\n",
      "Epoch 41/100\n",
      "\u001b[1m3/3\u001b[0m \u001b[32m━━━━━━━━━━━━━━━━━━━━\u001b[0m\u001b[37m\u001b[0m \u001b[1m1s\u001b[0m 206ms/step - AUC: 1.0000 - accuracy: 1.0000 - loss: 0.1328 - val_AUC: 1.0000 - val_accuracy: 1.0000 - val_loss: 0.1564\n",
      "Epoch 42/100\n",
      "\u001b[1m3/3\u001b[0m \u001b[32m━━━━━━━━━━━━━━━━━━━━\u001b[0m\u001b[37m\u001b[0m \u001b[1m1s\u001b[0m 210ms/step - AUC: 1.0000 - accuracy: 1.0000 - loss: 0.1270 - val_AUC: 1.0000 - val_accuracy: 1.0000 - val_loss: 0.1477\n",
      "Epoch 43/100\n",
      "\u001b[1m3/3\u001b[0m \u001b[32m━━━━━━━━━━━━━━━━━━━━\u001b[0m\u001b[37m\u001b[0m \u001b[1m1s\u001b[0m 200ms/step - AUC: 1.0000 - accuracy: 1.0000 - loss: 0.1317 - val_AUC: 1.0000 - val_accuracy: 1.0000 - val_loss: 0.1396\n",
      "Epoch 44/100\n",
      "\u001b[1m3/3\u001b[0m \u001b[32m━━━━━━━━━━━━━━━━━━━━\u001b[0m\u001b[37m\u001b[0m \u001b[1m1s\u001b[0m 396ms/step - AUC: 1.0000 - accuracy: 1.0000 - loss: 0.1203 - val_AUC: 1.0000 - val_accuracy: 1.0000 - val_loss: 0.1320\n",
      "Epoch 45/100\n",
      "\u001b[1m3/3\u001b[0m \u001b[32m━━━━━━━━━━━━━━━━━━━━\u001b[0m\u001b[37m\u001b[0m \u001b[1m1s\u001b[0m 266ms/step - AUC: 1.0000 - accuracy: 1.0000 - loss: 0.1097 - val_AUC: 1.0000 - val_accuracy: 1.0000 - val_loss: 0.1249\n",
      "Epoch 46/100\n",
      "\u001b[1m3/3\u001b[0m \u001b[32m━━━━━━━━━━━━━━━━━━━━\u001b[0m\u001b[37m\u001b[0m \u001b[1m1s\u001b[0m 182ms/step - AUC: 1.0000 - accuracy: 1.0000 - loss: 0.1031 - val_AUC: 1.0000 - val_accuracy: 1.0000 - val_loss: 0.1182\n",
      "Epoch 47/100\n",
      "\u001b[1m3/3\u001b[0m \u001b[32m━━━━━━━━━━━━━━━━━━━━\u001b[0m\u001b[37m\u001b[0m \u001b[1m1s\u001b[0m 279ms/step - AUC: 1.0000 - accuracy: 1.0000 - loss: 0.0938 - val_AUC: 1.0000 - val_accuracy: 1.0000 - val_loss: 0.1119\n",
      "Epoch 48/100\n",
      "\u001b[1m3/3\u001b[0m \u001b[32m━━━━━━━━━━━━━━━━━━━━\u001b[0m\u001b[37m\u001b[0m \u001b[1m1s\u001b[0m 216ms/step - AUC: 1.0000 - accuracy: 1.0000 - loss: 0.0999 - val_AUC: 1.0000 - val_accuracy: 1.0000 - val_loss: 0.1058\n",
      "Epoch 49/100\n",
      "\u001b[1m3/3\u001b[0m \u001b[32m━━━━━━━━━━━━━━━━━━━━\u001b[0m\u001b[37m\u001b[0m \u001b[1m1s\u001b[0m 179ms/step - AUC: 1.0000 - accuracy: 1.0000 - loss: 0.0869 - val_AUC: 1.0000 - val_accuracy: 1.0000 - val_loss: 0.1002\n",
      "Epoch 50/100\n",
      "\u001b[1m3/3\u001b[0m \u001b[32m━━━━━━━━━━━━━━━━━━━━\u001b[0m\u001b[37m\u001b[0m \u001b[1m1s\u001b[0m 211ms/step - AUC: 1.0000 - accuracy: 1.0000 - loss: 0.0896 - val_AUC: 1.0000 - val_accuracy: 1.0000 - val_loss: 0.0951\n",
      "Epoch 51/100\n",
      "\u001b[1m3/3\u001b[0m \u001b[32m━━━━━━━━━━━━━━━━━━━━\u001b[0m\u001b[37m\u001b[0m \u001b[1m1s\u001b[0m 545ms/step - AUC: 1.0000 - accuracy: 1.0000 - loss: 0.0820 - val_AUC: 1.0000 - val_accuracy: 1.0000 - val_loss: 0.0904\n",
      "Epoch 52/100\n",
      "\u001b[1m3/3\u001b[0m \u001b[32m━━━━━━━━━━━━━━━━━━━━\u001b[0m\u001b[37m\u001b[0m \u001b[1m0s\u001b[0m 162ms/step - AUC: 1.0000 - accuracy: 1.0000 - loss: 0.0752 - val_AUC: 1.0000 - val_accuracy: 1.0000 - val_loss: 0.0860\n",
      "Epoch 53/100\n",
      "\u001b[1m3/3\u001b[0m \u001b[32m━━━━━━━━━━━━━━━━━━━━\u001b[0m\u001b[37m\u001b[0m \u001b[1m0s\u001b[0m 164ms/step - AUC: 1.0000 - accuracy: 1.0000 - loss: 0.0689 - val_AUC: 1.0000 - val_accuracy: 1.0000 - val_loss: 0.0819\n",
      "Epoch 54/100\n",
      "\u001b[1m3/3\u001b[0m \u001b[32m━━━━━━━━━━━━━━━━━━━━\u001b[0m\u001b[37m\u001b[0m \u001b[1m0s\u001b[0m 165ms/step - AUC: 1.0000 - accuracy: 1.0000 - loss: 0.0764 - val_AUC: 1.0000 - val_accuracy: 1.0000 - val_loss: 0.0781\n",
      "Epoch 55/100\n",
      "\u001b[1m3/3\u001b[0m \u001b[32m━━━━━━━━━━━━━━━━━━━━\u001b[0m\u001b[37m\u001b[0m \u001b[1m0s\u001b[0m 160ms/step - AUC: 1.0000 - accuracy: 1.0000 - loss: 0.0663 - val_AUC: 1.0000 - val_accuracy: 1.0000 - val_loss: 0.0744\n",
      "Epoch 56/100\n",
      "\u001b[1m3/3\u001b[0m \u001b[32m━━━━━━━━━━━━━━━━━━━━\u001b[0m\u001b[37m\u001b[0m \u001b[1m0s\u001b[0m 157ms/step - AUC: 1.0000 - accuracy: 1.0000 - loss: 0.0586 - val_AUC: 1.0000 - val_accuracy: 1.0000 - val_loss: 0.0709\n",
      "Epoch 57/100\n",
      "\u001b[1m3/3\u001b[0m \u001b[32m━━━━━━━━━━━━━━━━━━━━\u001b[0m\u001b[37m\u001b[0m \u001b[1m0s\u001b[0m 160ms/step - AUC: 1.0000 - accuracy: 1.0000 - loss: 0.0583 - val_AUC: 1.0000 - val_accuracy: 1.0000 - val_loss: 0.0677\n",
      "Epoch 58/100\n",
      "\u001b[1m3/3\u001b[0m \u001b[32m━━━━━━━━━━━━━━━━━━━━\u001b[0m\u001b[37m\u001b[0m \u001b[1m0s\u001b[0m 183ms/step - AUC: 1.0000 - accuracy: 1.0000 - loss: 0.0582 - val_AUC: 1.0000 - val_accuracy: 1.0000 - val_loss: 0.0647\n",
      "Epoch 59/100\n",
      "\u001b[1m3/3\u001b[0m \u001b[32m━━━━━━━━━━━━━━━━━━━━\u001b[0m\u001b[37m\u001b[0m \u001b[1m1s\u001b[0m 194ms/step - AUC: 1.0000 - accuracy: 1.0000 - loss: 0.0519 - val_AUC: 1.0000 - val_accuracy: 1.0000 - val_loss: 0.0619\n",
      "Epoch 60/100\n",
      "\u001b[1m3/3\u001b[0m \u001b[32m━━━━━━━━━━━━━━━━━━━━\u001b[0m\u001b[37m\u001b[0m \u001b[1m0s\u001b[0m 156ms/step - AUC: 1.0000 - accuracy: 1.0000 - loss: 0.0572 - val_AUC: 1.0000 - val_accuracy: 1.0000 - val_loss: 0.0592\n",
      "Epoch 61/100\n",
      "\u001b[1m3/3\u001b[0m \u001b[32m━━━━━━━━━━━━━━━━━━━━\u001b[0m\u001b[37m\u001b[0m \u001b[1m0s\u001b[0m 161ms/step - AUC: 1.0000 - accuracy: 1.0000 - loss: 0.0489 - val_AUC: 1.0000 - val_accuracy: 1.0000 - val_loss: 0.0566\n",
      "Epoch 62/100\n",
      "\u001b[1m3/3\u001b[0m \u001b[32m━━━━━━━━━━━━━━━━━━━━\u001b[0m\u001b[37m\u001b[0m \u001b[1m0s\u001b[0m 170ms/step - AUC: 1.0000 - accuracy: 1.0000 - loss: 0.0495 - val_AUC: 1.0000 - val_accuracy: 1.0000 - val_loss: 0.0541\n",
      "Epoch 63/100\n",
      "\u001b[1m3/3\u001b[0m \u001b[32m━━━━━━━━━━━━━━━━━━━━\u001b[0m\u001b[37m\u001b[0m \u001b[1m0s\u001b[0m 160ms/step - AUC: 1.0000 - accuracy: 1.0000 - loss: 0.0537 - val_AUC: 1.0000 - val_accuracy: 1.0000 - val_loss: 0.0517\n",
      "Epoch 64/100\n",
      "\u001b[1m3/3\u001b[0m \u001b[32m━━━━━━━━━━━━━━━━━━━━\u001b[0m\u001b[37m\u001b[0m \u001b[1m0s\u001b[0m 156ms/step - AUC: 1.0000 - accuracy: 1.0000 - loss: 0.0468 - val_AUC: 1.0000 - val_accuracy: 1.0000 - val_loss: 0.0495\n",
      "Epoch 65/100\n",
      "\u001b[1m3/3\u001b[0m \u001b[32m━━━━━━━━━━━━━━━━━━━━\u001b[0m\u001b[37m\u001b[0m \u001b[1m1s\u001b[0m 166ms/step - AUC: 1.0000 - accuracy: 1.0000 - loss: 0.0351 - val_AUC: 1.0000 - val_accuracy: 1.0000 - val_loss: 0.0474\n",
      "Epoch 66/100\n",
      "\u001b[1m3/3\u001b[0m \u001b[32m━━━━━━━━━━━━━━━━━━━━\u001b[0m\u001b[37m\u001b[0m \u001b[1m0s\u001b[0m 159ms/step - AUC: 1.0000 - accuracy: 1.0000 - loss: 0.0411 - val_AUC: 1.0000 - val_accuracy: 1.0000 - val_loss: 0.0455\n",
      "Epoch 67/100\n",
      "\u001b[1m3/3\u001b[0m \u001b[32m━━━━━━━━━━━━━━━━━━━━\u001b[0m\u001b[37m\u001b[0m \u001b[1m0s\u001b[0m 162ms/step - AUC: 1.0000 - accuracy: 1.0000 - loss: 0.0413 - val_AUC: 1.0000 - val_accuracy: 1.0000 - val_loss: 0.0437\n",
      "Epoch 68/100\n",
      "\u001b[1m3/3\u001b[0m \u001b[32m━━━━━━━━━━━━━━━━━━━━\u001b[0m\u001b[37m\u001b[0m \u001b[1m1s\u001b[0m 162ms/step - AUC: 1.0000 - accuracy: 1.0000 - loss: 0.0432 - val_AUC: 1.0000 - val_accuracy: 1.0000 - val_loss: 0.0420\n",
      "Epoch 69/100\n",
      "\u001b[1m3/3\u001b[0m \u001b[32m━━━━━━━━━━━━━━━━━━━━\u001b[0m\u001b[37m\u001b[0m \u001b[1m0s\u001b[0m 161ms/step - AUC: 1.0000 - accuracy: 1.0000 - loss: 0.0413 - val_AUC: 1.0000 - val_accuracy: 1.0000 - val_loss: 0.0404\n",
      "Epoch 70/100\n",
      "\u001b[1m3/3\u001b[0m \u001b[32m━━━━━━━━━━━━━━━━━━━━\u001b[0m\u001b[37m\u001b[0m \u001b[1m0s\u001b[0m 158ms/step - AUC: 1.0000 - accuracy: 1.0000 - loss: 0.0377 - val_AUC: 1.0000 - val_accuracy: 1.0000 - val_loss: 0.0388\n",
      "Epoch 71/100\n",
      "\u001b[1m3/3\u001b[0m \u001b[32m━━━━━━━━━━━━━━━━━━━━\u001b[0m\u001b[37m\u001b[0m \u001b[1m0s\u001b[0m 165ms/step - AUC: 1.0000 - accuracy: 1.0000 - loss: 0.0371 - val_AUC: 1.0000 - val_accuracy: 1.0000 - val_loss: 0.0373\n",
      "Epoch 72/100\n",
      "\u001b[1m3/3\u001b[0m \u001b[32m━━━━━━━━━━━━━━━━━━━━\u001b[0m\u001b[37m\u001b[0m \u001b[1m1s\u001b[0m 160ms/step - AUC: 1.0000 - accuracy: 1.0000 - loss: 0.0376 - val_AUC: 1.0000 - val_accuracy: 1.0000 - val_loss: 0.0358\n",
      "Epoch 73/100\n",
      "\u001b[1m3/3\u001b[0m \u001b[32m━━━━━━━━━━━━━━━━━━━━\u001b[0m\u001b[37m\u001b[0m \u001b[1m1s\u001b[0m 162ms/step - AUC: 1.0000 - accuracy: 1.0000 - loss: 0.0454 - val_AUC: 1.0000 - val_accuracy: 1.0000 - val_loss: 0.0344\n",
      "Epoch 74/100\n",
      "\u001b[1m3/3\u001b[0m \u001b[32m━━━━━━━━━━━━━━━━━━━━\u001b[0m\u001b[37m\u001b[0m \u001b[1m0s\u001b[0m 163ms/step - AUC: 1.0000 - accuracy: 1.0000 - loss: 0.0303 - val_AUC: 1.0000 - val_accuracy: 1.0000 - val_loss: 0.0331\n",
      "Epoch 75/100\n",
      "\u001b[1m3/3\u001b[0m \u001b[32m━━━━━━━━━━━━━━━━━━━━\u001b[0m\u001b[37m\u001b[0m \u001b[1m0s\u001b[0m 174ms/step - AUC: 1.0000 - accuracy: 1.0000 - loss: 0.0380 - val_AUC: 1.0000 - val_accuracy: 1.0000 - val_loss: 0.0317\n",
      "Epoch 76/100\n",
      "\u001b[1m3/3\u001b[0m \u001b[32m━━━━━━━━━━━━━━━━━━━━\u001b[0m\u001b[37m\u001b[0m \u001b[1m0s\u001b[0m 173ms/step - AUC: 1.0000 - accuracy: 1.0000 - loss: 0.0263 - val_AUC: 1.0000 - val_accuracy: 1.0000 - val_loss: 0.0304\n",
      "Epoch 77/100\n",
      "\u001b[1m3/3\u001b[0m \u001b[32m━━━━━━━━━━━━━━━━━━━━\u001b[0m\u001b[37m\u001b[0m \u001b[1m0s\u001b[0m 174ms/step - AUC: 1.0000 - accuracy: 1.0000 - loss: 0.0270 - val_AUC: 1.0000 - val_accuracy: 1.0000 - val_loss: 0.0292\n",
      "Epoch 78/100\n",
      "\u001b[1m3/3\u001b[0m \u001b[32m━━━━━━━━━━━━━━━━━━━━\u001b[0m\u001b[37m\u001b[0m \u001b[1m1s\u001b[0m 163ms/step - AUC: 1.0000 - accuracy: 1.0000 - loss: 0.0350 - val_AUC: 1.0000 - val_accuracy: 1.0000 - val_loss: 0.0281\n",
      "Epoch 79/100\n",
      "\u001b[1m3/3\u001b[0m \u001b[32m━━━━━━━━━━━━━━━━━━━━\u001b[0m\u001b[37m\u001b[0m \u001b[1m0s\u001b[0m 160ms/step - AUC: 1.0000 - accuracy: 1.0000 - loss: 0.0214 - val_AUC: 1.0000 - val_accuracy: 1.0000 - val_loss: 0.0271\n",
      "Epoch 80/100\n",
      "\u001b[1m3/3\u001b[0m \u001b[32m━━━━━━━━━━━━━━━━━━━━\u001b[0m\u001b[37m\u001b[0m \u001b[1m1s\u001b[0m 164ms/step - AUC: 1.0000 - accuracy: 1.0000 - loss: 0.0247 - val_AUC: 1.0000 - val_accuracy: 1.0000 - val_loss: 0.0261\n",
      "Epoch 81/100\n",
      "\u001b[1m3/3\u001b[0m \u001b[32m━━━━━━━━━━━━━━━━━━━━\u001b[0m\u001b[37m\u001b[0m \u001b[1m0s\u001b[0m 163ms/step - AUC: 1.0000 - accuracy: 1.0000 - loss: 0.0235 - val_AUC: 1.0000 - val_accuracy: 1.0000 - val_loss: 0.0253\n",
      "Epoch 82/100\n",
      "\u001b[1m3/3\u001b[0m \u001b[32m━━━━━━━━━━━━━━━━━━━━\u001b[0m\u001b[37m\u001b[0m \u001b[1m1s\u001b[0m 159ms/step - AUC: 1.0000 - accuracy: 1.0000 - loss: 0.0212 - val_AUC: 1.0000 - val_accuracy: 1.0000 - val_loss: 0.0245\n",
      "Epoch 83/100\n",
      "\u001b[1m3/3\u001b[0m \u001b[32m━━━━━━━━━━━━━━━━━━━━\u001b[0m\u001b[37m\u001b[0m \u001b[1m0s\u001b[0m 159ms/step - AUC: 1.0000 - accuracy: 1.0000 - loss: 0.0241 - val_AUC: 1.0000 - val_accuracy: 1.0000 - val_loss: 0.0237\n",
      "Epoch 84/100\n",
      "\u001b[1m3/3\u001b[0m \u001b[32m━━━━━━━━━━━━━━━━━━━━\u001b[0m\u001b[37m\u001b[0m \u001b[1m0s\u001b[0m 168ms/step - AUC: 1.0000 - accuracy: 1.0000 - loss: 0.0259 - val_AUC: 1.0000 - val_accuracy: 1.0000 - val_loss: 0.0229\n",
      "Epoch 85/100\n",
      "\u001b[1m3/3\u001b[0m \u001b[32m━━━━━━━━━━━━━━━━━━━━\u001b[0m\u001b[37m\u001b[0m \u001b[1m0s\u001b[0m 158ms/step - AUC: 1.0000 - accuracy: 1.0000 - loss: 0.0240 - val_AUC: 1.0000 - val_accuracy: 1.0000 - val_loss: 0.0222\n",
      "Epoch 86/100\n",
      "\u001b[1m3/3\u001b[0m \u001b[32m━━━━━━━━━━━━━━━━━━━━\u001b[0m\u001b[37m\u001b[0m \u001b[1m1s\u001b[0m 166ms/step - AUC: 1.0000 - accuracy: 1.0000 - loss: 0.0190 - val_AUC: 1.0000 - val_accuracy: 1.0000 - val_loss: 0.0215\n",
      "Epoch 87/100\n",
      "\u001b[1m3/3\u001b[0m \u001b[32m━━━━━━━━━━━━━━━━━━━━\u001b[0m\u001b[37m\u001b[0m \u001b[1m1s\u001b[0m 164ms/step - AUC: 1.0000 - accuracy: 1.0000 - loss: 0.0166 - val_AUC: 1.0000 - val_accuracy: 1.0000 - val_loss: 0.0208\n",
      "Epoch 88/100\n",
      "\u001b[1m3/3\u001b[0m \u001b[32m━━━━━━━━━━━━━━━━━━━━\u001b[0m\u001b[37m\u001b[0m \u001b[1m0s\u001b[0m 163ms/step - AUC: 1.0000 - accuracy: 1.0000 - loss: 0.0209 - val_AUC: 1.0000 - val_accuracy: 1.0000 - val_loss: 0.0202\n",
      "Epoch 89/100\n",
      "\u001b[1m3/3\u001b[0m \u001b[32m━━━━━━━━━━━━━━━━━━━━\u001b[0m\u001b[37m\u001b[0m \u001b[1m0s\u001b[0m 164ms/step - AUC: 1.0000 - accuracy: 1.0000 - loss: 0.0172 - val_AUC: 1.0000 - val_accuracy: 1.0000 - val_loss: 0.0196\n",
      "Epoch 90/100\n",
      "\u001b[1m3/3\u001b[0m \u001b[32m━━━━━━━━━━━━━━━━━━━━\u001b[0m\u001b[37m\u001b[0m \u001b[1m0s\u001b[0m 163ms/step - AUC: 1.0000 - accuracy: 1.0000 - loss: 0.0165 - val_AUC: 1.0000 - val_accuracy: 1.0000 - val_loss: 0.0190\n",
      "Epoch 91/100\n",
      "\u001b[1m3/3\u001b[0m \u001b[32m━━━━━━━━━━━━━━━━━━━━\u001b[0m\u001b[37m\u001b[0m \u001b[1m1s\u001b[0m 166ms/step - AUC: 1.0000 - accuracy: 1.0000 - loss: 0.0200 - val_AUC: 1.0000 - val_accuracy: 1.0000 - val_loss: 0.0184\n",
      "Epoch 92/100\n",
      "\u001b[1m3/3\u001b[0m \u001b[32m━━━━━━━━━━━━━━━━━━━━\u001b[0m\u001b[37m\u001b[0m \u001b[1m0s\u001b[0m 165ms/step - AUC: 1.0000 - accuracy: 1.0000 - loss: 0.0209 - val_AUC: 1.0000 - val_accuracy: 1.0000 - val_loss: 0.0179\n",
      "Epoch 93/100\n",
      "\u001b[1m3/3\u001b[0m \u001b[32m━━━━━━━━━━━━━━━━━━━━\u001b[0m\u001b[37m\u001b[0m \u001b[1m1s\u001b[0m 197ms/step - AUC: 1.0000 - accuracy: 1.0000 - loss: 0.0191 - val_AUC: 1.0000 - val_accuracy: 1.0000 - val_loss: 0.0174\n",
      "Epoch 94/100\n",
      "\u001b[1m3/3\u001b[0m \u001b[32m━━━━━━━━━━━━━━━━━━━━\u001b[0m\u001b[37m\u001b[0m \u001b[1m0s\u001b[0m 159ms/step - AUC: 1.0000 - accuracy: 1.0000 - loss: 0.0172 - val_AUC: 1.0000 - val_accuracy: 1.0000 - val_loss: 0.0169\n",
      "Epoch 95/100\n",
      "\u001b[1m3/3\u001b[0m \u001b[32m━━━━━━━━━━━━━━━━━━━━\u001b[0m\u001b[37m\u001b[0m \u001b[1m0s\u001b[0m 169ms/step - AUC: 1.0000 - accuracy: 1.0000 - loss: 0.0156 - val_AUC: 1.0000 - val_accuracy: 1.0000 - val_loss: 0.0164\n",
      "Epoch 96/100\n",
      "\u001b[1m3/3\u001b[0m \u001b[32m━━━━━━━━━━━━━━━━━━━━\u001b[0m\u001b[37m\u001b[0m \u001b[1m0s\u001b[0m 161ms/step - AUC: 1.0000 - accuracy: 1.0000 - loss: 0.0158 - val_AUC: 1.0000 - val_accuracy: 1.0000 - val_loss: 0.0160\n",
      "Epoch 97/100\n",
      "\u001b[1m3/3\u001b[0m \u001b[32m━━━━━━━━━━━━━━━━━━━━\u001b[0m\u001b[37m\u001b[0m \u001b[1m0s\u001b[0m 162ms/step - AUC: 1.0000 - accuracy: 1.0000 - loss: 0.0156 - val_AUC: 1.0000 - val_accuracy: 1.0000 - val_loss: 0.0156\n",
      "Epoch 98/100\n",
      "\u001b[1m3/3\u001b[0m \u001b[32m━━━━━━━━━━━━━━━━━━━━\u001b[0m\u001b[37m\u001b[0m \u001b[1m1s\u001b[0m 163ms/step - AUC: 1.0000 - accuracy: 1.0000 - loss: 0.0153 - val_AUC: 1.0000 - val_accuracy: 1.0000 - val_loss: 0.0152\n",
      "Epoch 99/100\n",
      "\u001b[1m3/3\u001b[0m \u001b[32m━━━━━━━━━━━━━━━━━━━━\u001b[0m\u001b[37m\u001b[0m \u001b[1m1s\u001b[0m 161ms/step - AUC: 1.0000 - accuracy: 1.0000 - loss: 0.0148 - val_AUC: 1.0000 - val_accuracy: 1.0000 - val_loss: 0.0148\n",
      "Epoch 100/100\n",
      "\u001b[1m3/3\u001b[0m \u001b[32m━━━━━━━━━━━━━━━━━━━━\u001b[0m\u001b[37m\u001b[0m \u001b[1m1s\u001b[0m 160ms/step - AUC: 1.0000 - accuracy: 1.0000 - loss: 0.0149 - val_AUC: 1.0000 - val_accuracy: 1.0000 - val_loss: 0.0144\n"
     ]
    }
   ],
   "source": [
    "es = keras.callbacks.EarlyStopping(\n",
    "    monitor=\"val_loss\", patience=10, restore_best_weights=True\n",
    ")\n",
    "\n",
    "history = model.fit(\n",
    "    X_train, y_train,\n",
    "    validation_data=(X_val, y_val),\n",
    "    epochs=100, batch_size=32,\n",
    "    callbacks=[es], verbose=1\n",
    ")"
   ]
  },
  {
   "cell_type": "code",
   "execution_count": 7,
   "id": "1227f324",
   "metadata": {},
   "outputs": [
    {
     "name": "stdout",
     "output_type": "stream",
     "text": [
      "Test Acc: 1.0 AUC: 1.0\n",
      "\u001b[1m1/1\u001b[0m \u001b[32m━━━━━━━━━━━━━━━━━━━━\u001b[0m\u001b[37m\u001b[0m \u001b[1m0s\u001b[0m 267ms/step\n",
      "[[8 0]\n",
      " [0 7]]\n",
      "              precision    recall  f1-score   support\n",
      "\n",
      "           0      1.000     1.000     1.000         8\n",
      "           1      1.000     1.000     1.000         7\n",
      "\n",
      "    accuracy                          1.000        15\n",
      "   macro avg      1.000     1.000     1.000        15\n",
      "weighted avg      1.000     1.000     1.000        15\n",
      "\n"
     ]
    }
   ],
   "source": [
    "from sklearn.metrics import classification_report, confusion_matrix\n",
    "\n",
    "loss, acc, auc = model.evaluate(X_test, y_test, verbose=0)\n",
    "print(\"Test Acc:\", acc, \"AUC:\", auc)\n",
    "\n",
    "y_proba = model.predict(X_test).ravel()\n",
    "y_pred = (y_proba >= 0.5).astype(int)\n",
    "\n",
    "print(confusion_matrix(y_test, y_pred))\n",
    "print(classification_report(y_test, y_pred, digits=3))"
   ]
  },
  {
   "cell_type": "code",
   "execution_count": 8,
   "id": "242704d0",
   "metadata": {},
   "outputs": [
    {
     "data": {
      "image/png": "[encoded data removed]",
      "text/plain": [
       "<Figure size 640x480 with 1 Axes>"
      ]
     },
     "metadata": {},
     "output_type": "display_data"
    }
   ],
   "source": [
    "import matplotlib.pyplot as plt\n",
    "\n",
    "plt.plot(history.history[\"loss\"], label=\"Train Loss\")\n",
    "plt.plot(history.history[\"val_loss\"], label=\"Val Loss\")\n",
    "plt.xlabel(\"Epoch\"); plt.ylabel(\"Loss\"); plt.legend()\n",
    "plt.title(\"Learning Curve\")\n",
    "plt.tight_layout(); plt.savefig(\"learning_curve.png\", dpi=120)"
   ]
  }
 ],
 "metadata": {
  "kernelspec": {
   "display_name": ".venv",
   "language": "python",
   "name": "python3"
  },
  "language_info": {
   "codemirror_mode": {
    "name": "ipython",
    "version": 3
   },
   "file_extension": ".py",
   "mimetype": "text/x-python",
   "name": "python",
   "nbconvert_exporter": "python",
   "pygments_lexer": "ipython3",
   "version": "3.10.11"
  }
 },
 "nbformat": 4,
 "nbformat_minor": 5
}
